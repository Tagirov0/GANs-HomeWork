{
  "cells": [
    {
      "cell_type": "code",
      "execution_count": 1,
      "id": "3e486228",
      "metadata": {
        "id": "3e486228"
      },
      "outputs": [],
      "source": [
        "import torch; torch.manual_seed(0)\n",
        "import torch.nn as nn\n",
        "import torch.nn.functional as F\n",
        "import torch.utils\n",
        "import torch.distributions\n",
        "import torchvision\n",
        "import numpy as np\n",
        "import matplotlib.pyplot as plt; plt.rcParams['figure.dpi'] = 200\n",
        "import tqdm"
      ]
    },
    {
      "cell_type": "code",
      "execution_count": 2,
      "id": "5c4436bb",
      "metadata": {
        "colab": {
          "base_uri": "https://localhost:8080/",
          "height": 35
        },
        "id": "5c4436bb",
        "outputId": "360aac1e-f8df-4e83-974c-ec32f1c72544"
      },
      "outputs": [
        {
          "output_type": "execute_result",
          "data": {
            "text/plain": [
              "'cuda'"
            ],
            "application/vnd.google.colaboratory.intrinsic+json": {
              "type": "string"
            }
          },
          "metadata": {},
          "execution_count": 2
        }
      ],
      "source": [
        "device = 'cuda' if torch.cuda.is_available() else 'cpu'\n",
        "device"
      ]
    },
    {
      "cell_type": "code",
      "execution_count": 10,
      "id": "fb3e67f5",
      "metadata": {
        "id": "fb3e67f5"
      },
      "outputs": [],
      "source": [
        "latent_dims = 128\n",
        "\n",
        "train_loader = torch.utils.data.DataLoader(\n",
        "    torchvision.datasets.MNIST(\n",
        "        './data',\n",
        "        train=True,\n",
        "        transform=torchvision.transforms.ToTensor(),\n",
        "        download=True),\n",
        "    batch_size=64,\n",
        "    shuffle=True\n",
        ")\n",
        "\n",
        "test_loader = torch.utils.data.DataLoader(\n",
        "    torchvision.datasets.MNIST(\n",
        "        './data',\n",
        "        train=False,\n",
        "        transform=torchvision.transforms.ToTensor(),\n",
        "        download=True),\n",
        "    batch_size=64,\n",
        "    shuffle=False\n",
        ")"
      ]
    },
    {
      "cell_type": "code",
      "source": [
        "class VariationalEncoder(nn.Module):\n",
        "    def __init__(self, latent_dims):\n",
        "        super(VariationalEncoder, self).__init__()\n",
        "        self.conv = nn.Sequential(\n",
        "            nn.Conv2d(1, 16, 3),\n",
        "            nn.ReLU(),\n",
        "            nn.Conv2d(16, 32, 3),\n",
        "            nn.ReLU()\n",
        "        )\n",
        "\n",
        "        self.linear1 = nn.Linear(32*24*24, latent_dims)\n",
        "        self.linear2 = nn.Linear(32*24*24, latent_dims)\n",
        "\n",
        "        self.N = torch.distributions.Normal(0, 1)\n",
        "        self.N.loc = self.N.loc.cuda() # hack to get sampling on the GPU\n",
        "        self.N.scale = self.N.scale.cuda()\n",
        "        self.kl = 0\n",
        "\n",
        "    def forward(self, x):\n",
        "        x = torch.flatten(self.conv(x), start_dim=1)\n",
        "        mu =  self.linear1(x)\n",
        "        sigma = torch.exp(self.linear2(x))\n",
        "        z = mu + sigma*self.N.sample(mu.shape)\n",
        "        self.kl = (sigma**2 + mu**2 - torch.log(sigma) - 1/2).sum()\n",
        "        return z"
      ],
      "metadata": {
        "id": "9DXRf9ZtLeOY"
      },
      "id": "9DXRf9ZtLeOY",
      "execution_count": 11,
      "outputs": []
    },
    {
      "cell_type": "code",
      "source": [
        "class Decoder(nn.Module):\n",
        "    def __init__(self, latent_dims):\n",
        "        super(Decoder, self).__init__()\n",
        "\n",
        "        self.linear = nn.Linear(latent_dims, 32*24*24)\n",
        "        self.deconv = nn.Sequential(\n",
        "            nn.ConvTranspose2d(32, 16, 3),\n",
        "            nn.ReLU(),\n",
        "            nn.ConvTranspose2d(16, 1, 3)\n",
        "        )\n",
        "\n",
        "    def forward(self, z):\n",
        "        z = self.linear(z)\n",
        "        z = z.view(-1, 32, 24, 24)\n",
        "        return torch.sigmoid(self.deconv(z))"
      ],
      "metadata": {
        "id": "rbsGm9o1LvSo"
      },
      "id": "rbsGm9o1LvSo",
      "execution_count": 15,
      "outputs": []
    },
    {
      "cell_type": "code",
      "execution_count": 16,
      "id": "6b079833",
      "metadata": {
        "id": "6b079833"
      },
      "outputs": [],
      "source": [
        "class VariationalAutoencoder(nn.Module):\n",
        "    def __init__(self, latent_dims):\n",
        "        super(VariationalAutoencoder, self).__init__()\n",
        "        self.encoder = VariationalEncoder(latent_dims)\n",
        "        self.decoder = Decoder(latent_dims)\n",
        "\n",
        "    def forward(self, x):\n",
        "        z = self.encoder(x)\n",
        "        return self.decoder(z)"
      ]
    },
    {
      "cell_type": "code",
      "execution_count": 17,
      "id": "2ae6ed2f",
      "metadata": {
        "id": "2ae6ed2f"
      },
      "outputs": [],
      "source": [
        "def train(autoencoder, data, epochs=10):\n",
        "    opt = torch.optim.Adam(autoencoder.parameters())\n",
        "    for epoch in tqdm.tqdm(range(epochs)):\n",
        "        for x, y in data:\n",
        "            x = x.to(device) # GPU\n",
        "            opt.zero_grad()\n",
        "            x_hat = autoencoder(x)\n",
        "            loss = ((x - x_hat)**2).sum() + autoencoder.encoder.kl\n",
        "            loss.backward()\n",
        "            opt.step()\n",
        "    return autoencoder"
      ]
    },
    {
      "cell_type": "code",
      "execution_count": 18,
      "id": "8d50fa00",
      "metadata": {
        "colab": {
          "base_uri": "https://localhost:8080/"
        },
        "id": "8d50fa00",
        "outputId": "978008c3-4595-48dc-e587-c876b215d15e"
      },
      "outputs": [
        {
          "output_type": "stream",
          "name": "stderr",
          "text": [
            "100%|██████████| 20/20 [04:22<00:00, 13.13s/it]\n"
          ]
        }
      ],
      "source": [
        "vae = VariationalAutoencoder(latent_dims).to(device) # GPU\n",
        "vae = train(vae, train_loader, epochs=20)"
      ]
    },
    {
      "cell_type": "code",
      "source": [
        "import matplotlib.pyplot as plt\n",
        "import numpy as np\n",
        "import random\n",
        "\n",
        "vae.eval()\n",
        "with torch.no_grad():\n",
        "    for data in random.sample(list(test_loader), 1):\n",
        "        imgs, _ = data\n",
        "        imgs = imgs.to(device)\n",
        "        img = np.transpose(imgs[0].cpu().numpy(), [1,2,0])\n",
        "        plt.subplot(121)\n",
        "        plt.imshow(np.squeeze(img))\n",
        "        out = vae(imgs)\n",
        "        outimg = np.transpose(out[0].cpu().numpy(), [1,2,0])\n",
        "        plt.subplot(122)\n",
        "        plt.imshow(np.squeeze(outimg))\n",
        "        break"
      ],
      "metadata": {
        "colab": {
          "base_uri": "https://localhost:8080/",
          "height": 530
        },
        "id": "mVYPipW4qPTR",
        "outputId": "12287d74-3cf4-4dba-a55c-30a2e8451d4c"
      },
      "id": "mVYPipW4qPTR",
      "execution_count": 19,
      "outputs": [
        {
          "output_type": "display_data",
          "data": {
            "text/plain": [
              "<Figure size 1200x800 with 2 Axes>"
            ],
            "image/png": "[encoded data removed]"
          },
          "metadata": {
            "needs_background": "light"
          }
        }
      ]
    }
  ],
  "metadata": {
    "kernelspec": {
      "display_name": "base",
      "language": "python",
      "name": "python3"
    },
    "language_info": {
      "codemirror_mode": {
        "name": "ipython",
        "version": 3
      },
      "file_extension": ".py",
      "mimetype": "text/x-python",
      "name": "python",
      "nbconvert_exporter": "python",
      "pygments_lexer": "ipython3",
      "version": "3.8.8 (default, Apr 13 2021, 15:08:03) [MSC v.1916 64 bit (AMD64)]"
    },
    "vscode": {
      "interpreter": {
        "hash": "be542be2bf897c10506b85333506db5056be73a550c36a28a38617d7f39edd49"
      }
    },
    "colab": {
      "provenance": []
    },
    "accelerator": "GPU",
    "gpuClass": "standard"
  },
  "nbformat": 4,
  "nbformat_minor": 5
}